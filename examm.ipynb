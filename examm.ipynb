{
 "cells": [
  {
   "cell_type": "code",
   "execution_count": null,
   "metadata": {},
   "outputs": [],
   "source": [
    "import tensorflow as tf\n",
    "\n",
    "# Load an NLP dataset from TensorFlow\n",
    "dataset = tf.keras.datasets.imdb\n",
    "(train_data, train_labels), (test_data, test_labels) = dataset.load_data(num_words=10000)\n",
    "\n",
    "# Preprocess the data\n",
    "train_data = tf.keras.preprocessing.sequence.pad_sequences(train_data, maxlen=250)\n",
    "test_data = tf.keras.preprocessing.sequence.pad_sequences(test_data, maxlen=250)"
   ]
  },
  {
   "cell_type": "code",
   "execution_count": null,
   "metadata": {},
   "outputs": [],
   "source": [
    "#build the model LSTM and other layers\n",
    "model = tf.keras.Sequential([\n",
    "    tf.keras.layers.Embedding(10000, 16),\n",
    "    tf.keras.layers.LSTM(16),\n",
    "    tf.keras.layers.Dense(1, activation='sigmoid')\n",
    "])\n",
    "\n",
    "\n",
    "# Compile the model\n",
    "model.compile(loss='binary_crossentropy', optimizer='adam', metrics=['accuracy'])\n",
    "\n",
    "# Train the model\n",
    "history = model.fit(train_data, train_labels, epochs=10, validation_data=(test_data, test_labels),batch_size=64)\n",
    "\n",
    "# Evaluate the model\n",
    "\n"
   ]
  }
 ],
 "metadata": {
  "language_info": {
   "name": "python"
  },
  "orig_nbformat": 4
 },
 "nbformat": 4,
 "nbformat_minor": 2
}
